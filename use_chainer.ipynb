{
 "cells": [
  {
   "cell_type": "code",
   "execution_count": 1,
   "metadata": {},
   "outputs": [
    {
     "name": "stdout",
     "output_type": "stream",
     "text": [
      "Platform: Linux-4.15.0-36-generic-x86_64-with-debian-stretch-sid\n",
      "Chainer: 5.0.0\n",
      "NumPy: 1.13.3\n",
      "CuPy:\n",
      "  CuPy Version          : 5.0.0\n",
      "  CUDA Root             : /usr/local/cuda\n",
      "  CUDA Build Version    : 9000\n",
      "  CUDA Driver Version   : 10000\n",
      "  CUDA Runtime Version  : 9000\n",
      "  cuDNN Build Version   : 7301\n",
      "  cuDNN Version         : 7301\n",
      "  NCCL Build Version    : None\n",
      "iDeep: Not Available\n"
     ]
    }
   ],
   "source": [
    "# check chainer info\n",
    "%%bash\n",
    "python -c 'import chainer; chainer.print_runtime_info()'"
   ]
  },
  {
   "cell_type": "code",
   "execution_count": 4,
   "metadata": {},
   "outputs": [
    {
     "name": "stderr",
     "output_type": "stream",
     "text": [
      "Downloading from http://yann.lecun.com/exdb/mnist/train-images-idx3-ubyte.gz...\n",
      "Downloading from http://yann.lecun.com/exdb/mnist/train-labels-idx1-ubyte.gz...\n",
      "Downloading from http://yann.lecun.com/exdb/mnist/t10k-images-idx3-ubyte.gz...\n",
      "Downloading from http://yann.lecun.com/exdb/mnist/t10k-labels-idx1-ubyte.gz...\n"
     ]
    }
   ],
   "source": [
    "# setting datasets\n",
    "from chainer.datasets import mnist\n",
    "\n",
    "train_val, test = mnist.get_mnist(withlabel=True, ndim=1)"
   ]
  },
  {
   "cell_type": "code",
   "execution_count": 13,
   "metadata": {},
   "outputs": [
    {
     "name": "stdout",
     "output_type": "stream",
     "text": [
      "label: 5\n"
     ]
    },
    {
     "data": {
      "image/png": "[encoded data removed]",
      "text/plain": [
       "<matplotlib.figure.Figure at 0x7fe0675e7470>"
      ]
     },
     "metadata": {},
     "output_type": "display_data"
    }
   ],
   "source": [
    "# display data\n",
    "%matplotlib inline\n",
    "import matplotlib.pyplot as plt\n",
    "\n",
    "x, t = train_val[0] # (data, label)\n",
    "plt.imshow(x.reshape(28, 28), cmap='gray')\n",
    "plt.axis('off')\n",
    "plt.show\n",
    "print('label:', t)"
   ]
  },
  {
   "cell_type": "code",
   "execution_count": 22,
   "metadata": {},
   "outputs": [
    {
     "name": "stdout",
     "output_type": "stream",
     "text": [
      "Training dataset size: 50000\n",
      "Validation dataset size: 10000\n",
      "test dataset size: 10000\n"
     ]
    }
   ],
   "source": [
    "# divide data, Training and Validation\n",
    "from chainer.datasets import split_dataset_random\n",
    "train, valid = split_dataset_random(train_val, 50000, seed=0) # seed値でランダムな値を固定\n",
    "print('Training dataset size:', len(train))\n",
    "print('Validation dataset size:', len(valid))\n",
    "print('test dataset size:', len(test))"
   ]
  },
  {
   "cell_type": "code",
   "execution_count": 23,
   "metadata": {},
   "outputs": [],
   "source": [
    "# minibatch processing\n",
    "from chainer import iterators\n",
    "\n",
    "batchsize = 128\n",
    "\n",
    "train_iter = iterators.SerialIterator(train, batchsize)\n",
    "valid_iter = iterators.SerialIterator(\n",
    "    valid,\n",
    "    batchsize,\n",
    "    repeat=False,\n",
    "    shuffle=False\n",
    ")\n",
    "test_iter = iterators.SerialIterator(\n",
    "    test,\n",
    "    batchsize,\n",
    "    repeat=False,\n",
    "    shuffle=False,\n",
    ")"
   ]
  },
  {
   "cell_type": "code",
   "execution_count": 25,
   "metadata": {},
   "outputs": [],
   "source": [
    "# make neuralnetwork Link and Function\n",
    "import chainer.links as L # パラメータを持つ関数\n",
    "import chainer.functions as F # パラメータを持たない関数"
   ]
  },
  {
   "cell_type": "code",
   "execution_count": null,
   "metadata": {
    "collapsed": true
   },
   "outputs": [],
   "source": []
  }
 ],
 "metadata": {
  "kernelspec": {
   "display_name": "Python 3",
   "language": "python",
   "name": "python3"
  },
  "language_info": {
   "codemirror_mode": {
    "name": "ipython",
    "version": 3
   },
   "file_extension": ".py",
   "mimetype": "text/x-python",
   "name": "python",
   "nbconvert_exporter": "python",
   "pygments_lexer": "ipython3",
   "version": "3.6.3"
  }
 },
 "nbformat": 4,
 "nbformat_minor": 2
}
