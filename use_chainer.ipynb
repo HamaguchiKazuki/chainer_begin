{
 "cells": [
  {
   "cell_type": "code",
   "execution_count": 1,
   "metadata": {},
   "outputs": [
    {
     "name": "stdout",
     "output_type": "stream",
     "text": [
      "Platform: Linux-4.15.0-36-generic-x86_64-with-debian-stretch-sid\n",
      "Chainer: 5.0.0\n",
      "NumPy: 1.13.3\n",
      "CuPy:\n",
      "  CuPy Version          : 5.0.0\n",
      "  CUDA Root             : /usr/local/cuda\n",
      "  CUDA Build Version    : 9000\n",
      "  CUDA Driver Version   : 10000\n",
      "  CUDA Runtime Version  : 9000\n",
      "  cuDNN Build Version   : 7301\n",
      "  cuDNN Version         : 7301\n",
      "  NCCL Build Version    : None\n",
      "iDeep: Not Available\n"
     ]
    }
   ],
   "source": [
    "# check chainer info\n",
    "import chainer\n",
    "chainer.print_runtime_info()"
   ]
  },
  {
   "cell_type": "code",
   "execution_count": 1,
   "metadata": {},
   "outputs": [],
   "source": [
    "# setting datasets\n",
    "from chainer.datasets import mnist\n",
    "\n",
    "train_val, test = mnist.get_mnist(withlabel=True, ndim=1)"
   ]
  },
  {
   "cell_type": "code",
   "execution_count": 20,
   "metadata": {},
   "outputs": [
    {
     "name": "stdout",
     "output_type": "stream",
     "text": [
      "label: 5\n"
     ]
    },
    {
     "data": {
      "image/png": "[encoded data removed]",
      "text/plain": [
       "<matplotlib.figure.Figure at 0x7fad2fd6e198>"
      ]
     },
     "metadata": {},
     "output_type": "display_data"
    }
   ],
   "source": [
    "# display data\n",
    "%matplotlib inline\n",
    "import matplotlib.pyplot as plt\n",
    "\n",
    "x, t = train_val[0] # (data, label)\n",
    "plt.imshow(x.reshape(28, 28), cmap='gray')\n",
    "plt.axis('off')\n",
    "plt.show\n",
    "print('label:', t)"
   ]
  },
  {
   "cell_type": "code",
   "execution_count": 3,
   "metadata": {},
   "outputs": [
    {
     "name": "stdout",
     "output_type": "stream",
     "text": [
      "Training dataset size: 50000\n",
      "Validation dataset size: 10000\n",
      "test dataset size: 10000\n"
     ]
    }
   ],
   "source": [
    "# divide data, Training and Validation\n",
    "from chainer.datasets import split_dataset_random\n",
    "train, valid = split_dataset_random(train_val, 50000, seed=0) # seed値でランダムな値を固定\n",
    "print('Training dataset size:', len(train))\n",
    "print('Validation dataset size:', len(valid))\n",
    "print('test dataset size:', len(test))"
   ]
  },
  {
   "cell_type": "code",
   "execution_count": 4,
   "metadata": {
    "collapsed": true
   },
   "outputs": [],
   "source": [
    "# minibatch processing\n",
    "from chainer import iterators\n",
    "\n",
    "batchsize = 128\n",
    "\n",
    "train_iter = iterators.SerialIterator(train, batchsize)\n",
    "valid_iter = iterators.SerialIterator(\n",
    "    valid,\n",
    "    batchsize,\n",
    "    repeat=False,\n",
    "    shuffle=False\n",
    ")\n",
    "test_iter = iterators.SerialIterator(\n",
    "    test,\n",
    "    batchsize,\n",
    "    repeat=False,\n",
    "    shuffle=False,\n",
    ")"
   ]
  },
  {
   "cell_type": "code",
   "execution_count": 5,
   "metadata": {
    "collapsed": true
   },
   "outputs": [],
   "source": [
    "# Result guarantee\n",
    "# より厳密なのはchainer.config.cudnn_deterministic\n",
    "import random\n",
    "import numpy\n",
    "import chainer\n",
    "\n",
    "def reset_seed(seed=0):\n",
    "    random.seed(seed)\n",
    "    numpy.random.seed(seed)\n",
    "    if chainer.cuda.available:\n",
    "        chainer.cuda.cupy.random.seed(seed)\n",
    "\n",
    "reset_seed(0)"
   ]
  },
  {
   "cell_type": "code",
   "execution_count": 6,
   "metadata": {
    "collapsed": true
   },
   "outputs": [],
   "source": [
    "# make neuralnetwork Link and Function (model)\n",
    "import chainer.links as L # パラメータを持つ関数\n",
    "import chainer.functions as F # パラメータを持たない関数\n",
    "import chainer\n",
    "class MLP(chainer.Chain):\n",
    "    \n",
    "    def __init__(self, n_mid_units=100, n_out=10):\n",
    "        super(MLP, self).__init__()\n",
    "        \n",
    "        # パラメータを持つ層の登録\n",
    "        with self.init_scope():\n",
    "            self.l1 = L.Linear(None, n_mid_units) # None, 100 : Noneはその時の入力でユニット数を計算する\n",
    "            self.l2 = L.Linear(n_mid_units, n_mid_units) # 100, 100\n",
    "            self.l3 = L.Linear(n_mid_units, n_out) # 100, 10\n",
    "    \n",
    "    def __call__(self, x):\n",
    "        # データを受け取った際のforward計算を書く\n",
    "        h1 = F.relu(self.l1(x))\n",
    "        h2 = F.relu(self.l2(h1))\n",
    "        return self.l3(h2)\n",
    "    \n",
    "gpu_id = 0 # 0: gpu -1: cpu\n",
    "\n",
    "net = MLP()\n",
    "\n",
    "if gpu_id == 0:\n",
    "    net.to_gpu(gpu_id)"
   ]
  },
  {
   "cell_type": "code",
   "execution_count": 7,
   "metadata": {},
   "outputs": [
    {
     "name": "stdout",
     "output_type": "stream",
     "text": [
      "1つ目の全結合層のバイアスパラメータは : (100,)\n",
      "初期化直後の配列\n",
      " [ 0.  0.  0.  0.  0.  0.  0.  0.  0.  0.  0.  0.  0.  0.  0.  0.  0.  0.\n",
      "  0.  0.  0.  0.  0.  0.  0.  0.  0.  0.  0.  0.  0.  0.  0.  0.  0.  0.\n",
      "  0.  0.  0.  0.  0.  0.  0.  0.  0.  0.  0.  0.  0.  0.  0.  0.  0.  0.\n",
      "  0.  0.  0.  0.  0.  0.  0.  0.  0.  0.  0.  0.  0.  0.  0.  0.  0.  0.\n",
      "  0.  0.  0.  0.  0.  0.  0.  0.  0.  0.  0.  0.  0.  0.  0.  0.  0.  0.\n",
      "  0.  0.  0.  0.  0.  0.  0.  0.  0.  0.]\n",
      "2つ目の全結合層のバイアスパラメータは : (100,)\n",
      "初期化直後の配列\n",
      " [ 0.  0.  0.  0.  0.  0.  0.  0.  0.  0.  0.  0.  0.  0.  0.  0.  0.  0.\n",
      "  0.  0.  0.  0.  0.  0.  0.  0.  0.  0.  0.  0.  0.  0.  0.  0.  0.  0.\n",
      "  0.  0.  0.  0.  0.  0.  0.  0.  0.  0.  0.  0.  0.  0.  0.  0.  0.  0.\n",
      "  0.  0.  0.  0.  0.  0.  0.  0.  0.  0.  0.  0.  0.  0.  0.  0.  0.  0.\n",
      "  0.  0.  0.  0.  0.  0.  0.  0.  0.  0.  0.  0.  0.  0.  0.  0.  0.  0.\n",
      "  0.  0.  0.  0.  0.  0.  0.  0.  0.  0.]\n",
      "3つ目の全結合層のバイアスパラメータは : (10,)\n",
      "初期化直後の配列\n",
      " [ 0.  0.  0.  0.  0.  0.  0.  0.  0.  0.]\n"
     ]
    }
   ],
   "source": [
    "# 重み行列: W バイアス: b\n",
    "print('1つ目の全結合層のバイアスパラメータは :', net.l1.b.shape)\n",
    "print('初期化直後の配列\\n', net.l1.b.array)\n",
    "print('2つ目の全結合層のバイアスパラメータは :', net.l2.b.shape)\n",
    "print('初期化直後の配列\\n', net.l2.b.array)\n",
    "print('3つ目の全結合層のバイアスパラメータは :', net.l3.b.shape)\n",
    "print('初期化直後の配列\\n', net.l3.b.array)"
   ]
  },
  {
   "cell_type": "code",
   "execution_count": 8,
   "metadata": {},
   "outputs": [
    {
     "name": "stdout",
     "output_type": "stream",
     "text": [
      "l1\n",
      " None\n"
     ]
    }
   ],
   "source": [
    "#　まだ学習をしていないから重み行列(W)はNone\n",
    "print(\"l1\\n\",net.l1.W.array) # None"
   ]
  },
  {
   "cell_type": "code",
   "execution_count": 9,
   "metadata": {
    "collapsed": true
   },
   "outputs": [],
   "source": [
    "# select Optimizer\n",
    "# 訓練データの最適化手法を考える\n",
    "# SGD(勾配降下法), MomentSGD, RMSprop, Adamとかいろいろあるよ\n",
    "from chainer import optimizers\n",
    "\n",
    "optimizer = optimizers.SGD(lr=0.01).setup(net) # lr(learning late) ハイパーパラメータ"
   ]
  },
  {
   "cell_type": "code",
   "execution_count": 10,
   "metadata": {},
   "outputs": [
    {
     "name": "stdout",
     "output_type": "stream",
     "text": [
      "epoch:01 train_loss:1.0355 val_loss:0.9722 val_accuracy:0.7996\n",
      "epoch:02 train_loss:0.5380 val_loss:0.5329 val_accuracy:0.8648\n",
      "epoch:03 train_loss:0.3999 val_loss:0.4227 val_accuracy:0.8848\n",
      "epoch:04 train_loss:0.3331 val_loss:0.3739 val_accuracy:0.8942\n",
      "epoch:05 train_loss:0.4580 val_loss:0.3453 val_accuracy:0.8996\n",
      "epoch:06 train_loss:0.2479 val_loss:0.3272 val_accuracy:0.9069\n",
      "epoch:07 train_loss:0.3300 val_loss:0.3108 val_accuracy:0.9116\n",
      "epoch:08 train_loss:0.3807 val_loss:0.2989 val_accuracy:0.9145\n",
      "epoch:09 train_loss:0.2981 val_loss:0.2884 val_accuracy:0.9173\n",
      "epoch:10 train_loss:0.3213 val_loss:0.2800 val_accuracy:0.9205\n",
      "test_accuracy:0.9230\n"
     ]
    }
   ],
   "source": [
    "# learing\n",
    "import numpy as np\n",
    "from chainer.dataset import concat_examples\n",
    "from chainer.cuda import to_cpu\n",
    "\n",
    "max_epoch = 10\n",
    "\n",
    "while train_iter.epoch < max_epoch:\n",
    "    \n",
    "    # --- 学習の1イテレーション ---\n",
    "    train_batch = train_iter.next()\n",
    "    x, t = concat_examples(train_batch, gpu_id)\n",
    "    \n",
    "    # 予測計算\n",
    "    y = net(x)\n",
    "    \n",
    "    # lossの計算\n",
    "    loss = F.softmax_cross_entropy(y, t)\n",
    "    \n",
    "    # 勾配の計算\n",
    "    net.cleargrads()\n",
    "    loss.backward()\n",
    "    \n",
    "    # パラメータの更新\n",
    "    optimizer.update()\n",
    "    # --- ここまで ---\n",
    "    \n",
    "    # 1エポック終了ごとにValidationデータに対する予測精度を測って\n",
    "    # モデルの汎用性が向上しているかのチェックを行う\n",
    "    if train_iter.is_new_epoch: # 1epoch終了時\n",
    "        \n",
    "        # lossの表示\n",
    "        print('epoch:{:02d} train_loss:{:.04f}'.format(train_iter.epoch, float(to_cpu(loss.data))), end=' ')\n",
    "        \n",
    "        valid_losses = []\n",
    "        valid_accuracies = []\n",
    "        while True:\n",
    "            valid_batch = valid_iter.next()\n",
    "            x_valid, t_valid = concat_examples(valid_batch, gpu_id)\n",
    "            \n",
    "            # Validationデータをforward\n",
    "            with chainer.using_config('train', False), chainer.using_config('enable_backprop', False):\n",
    "                y_valid = net(x_valid)\n",
    "                \n",
    "            # lossを計算\n",
    "            loss_valid = F.softmax_cross_entropy(y_valid, t_valid)\n",
    "            valid_losses.append(to_cpu(loss_valid.array))\n",
    "            \n",
    "            # 精度を計算\n",
    "            accuracy = F.accuracy(y_valid, t_valid)\n",
    "            accuracy.to_cpu()\n",
    "            valid_accuracies.append(accuracy.array)\n",
    "            \n",
    "            if valid_iter.is_new_epoch:\n",
    "                valid_iter.reset()\n",
    "                break\n",
    "        print('val_loss:{:.04f} val_accuracy:{:.04f}'.format(np.mean(valid_losses), np.mean(valid_accuracies)))\n",
    "\n",
    "# テストデータでの評価\n",
    "test_accuracies = []\n",
    "while True:\n",
    "    test_batch = test_iter.next()\n",
    "    x_test, t_test = concat_examples(test_batch, gpu_id)\n",
    "\n",
    "    # テストデータをforward\n",
    "    with chainer.using_config('train', False), chainer.using_config('enable_backprop', False):\n",
    "        y_test = net(x_test)\n",
    "\n",
    "    # 精度の計算\n",
    "    accuracy = F.accuracy(y_test, t_test)\n",
    "    accuracy.to_cpu()\n",
    "    test_accuracies.append(accuracy.array)\n",
    "\n",
    "    if test_iter.is_new_epoch:\n",
    "        test_iter.reset()\n",
    "        break\n",
    "print('test_accuracy:{:.04f}'.format(np.mean(test_accuracies)))"
   ]
  },
  {
   "cell_type": "code",
   "execution_count": 13,
   "metadata": {},
   "outputs": [],
   "source": [
    "# save model\n",
    "from chainer import serializers\n",
    "serializers.save_npz('my_mnist.model', net)"
   ]
  },
  {
   "cell_type": "code",
   "execution_count": 16,
   "metadata": {},
   "outputs": [],
   "source": [
    "# 保存したモデルで推論する\n",
    "infer_net = MLP()\n",
    "\n",
    "serializers.load_npz('my_mnist.model', infer_net) # load model"
   ]
  },
  {
   "cell_type": "code",
   "execution_count": 25,
   "metadata": {},
   "outputs": [
    {
     "data": {
      "image/png": "[encoded data removed]",
      "text/plain": [
       "<matplotlib.figure.Figure at 0x7fad200e4eb8>"
      ]
     },
     "metadata": {},
     "output_type": "display_data"
    },
    {
     "name": "stdout",
     "output_type": "stream",
     "text": [
      "元の形 :  (784,) -> ミニバッチの形にしたあと :  (1, 784)\n",
      "ネットワークの予測 :  2\n"
     ]
    }
   ],
   "source": [
    "# check model test\n",
    "%matplotlib inline\n",
    "import matplotlib.pyplot as plt\n",
    "\n",
    "gpu_id = 0\n",
    "\n",
    "if gpu_id >= 0:\n",
    "    infer_net.to_gpu(gpu_id)\n",
    "\n",
    "# 1つ目のテストデータを取り出す\n",
    "x, t = test[1] # tは使わない\n",
    "\n",
    "# 画像の表示\n",
    "plt.imshow(x.reshape(28, 28), cmap='gray')\n",
    "plt.show()\n",
    "\n",
    "# reshape minibatch\n",
    "print('元の形 : ', x.shape, end = ' -> ')\n",
    "\n",
    "x = x[None, ...]\n",
    "\n",
    "print('ミニバッチの形にしたあと : ', x.shape)\n",
    "\n",
    "# ネットワークと同じデバイス上にデータを送る\n",
    "x = infer_net.xp.asarray(x)\n",
    "#print('infer_net.xp.asarray(x) = ', x)\n",
    "\n",
    "# モデルのforward関数に渡す\n",
    "with chainer.using_config('train', False), chainer.using_config('enable_backprop', False):\n",
    "    y = infer_net(x)\n",
    "    \n",
    "# Variable形式で出てくるため中身を取り出す\n",
    "y = y.array\n",
    "\n",
    "# 結果をCPUに送る\n",
    "y = to_cpu(y)\n",
    "\n",
    "# 予測確率の最大値インデックスを見る\n",
    "pred_label = y.argmax(axis=1)\n",
    "\n",
    "print('ネットワークの予測 : ', pred_label[0])"
   ]
  }
 ],
 "metadata": {
  "kernelspec": {
   "display_name": "Python 3",
   "language": "python",
   "name": "python3"
  },
  "language_info": {
   "codemirror_mode": {
    "name": "ipython",
    "version": 3
   },
   "file_extension": ".py",
   "mimetype": "text/x-python",
   "name": "python",
   "nbconvert_exporter": "python",
   "pygments_lexer": "ipython3",
   "version": "3.6.3"
  }
 },
 "nbformat": 4,
 "nbformat_minor": 2
}
